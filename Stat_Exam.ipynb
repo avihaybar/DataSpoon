{
  "nbformat": 4,
  "nbformat_minor": 0,
  "metadata": {
    "colab": {
      "name": "Stat_Exam.ipynb",
      "provenance": [],
      "authorship_tag": "ABX9TyPFqNn130zr7wlX3zb0esAJ",
      "include_colab_link": true
    },
    "kernelspec": {
      "name": "python3",
      "display_name": "Python 3"
    }
  },
  "cells": [
    {
      "cell_type": "markdown",
      "metadata": {
        "id": "view-in-github",
        "colab_type": "text"
      },
      "source": [
        "<a href=\"https://colab.research.google.com/github/avihaybar/DataSpoon/blob/master/Stat_Exam.ipynb\" target=\"_parent\"><img src=\"https://colab.research.google.com/assets/colab-badge.svg\" alt=\"Open In Colab\"/></a>"
      ]
    },
    {
      "cell_type": "markdown",
      "metadata": {
        "id": "jn8t2dqRNfXZ"
      },
      "source": [
        "Name: 'Avihay Bar'"
      ]
    },
    {
      "cell_type": "code",
      "metadata": {
        "id": "yv30DTGCb_F5"
      },
      "source": [
        "import numpy as np\n",
        "import matplotlib as mpl\n",
        "import matplotlib.pyplot as plt\n",
        "from matplotlib import ticker \n",
        "from scipy.stats import geom\n",
        "%matplotlib inline"
      ],
      "execution_count": 35,
      "outputs": []
    },
    {
      "cell_type": "markdown",
      "metadata": {
        "id": "khdApRGqNndt"
      },
      "source": [
        "## Prediction [40 pts]\n",
        "\n",
        "In a study of patients who had undergone surgery of breast cancer, 81 out of 306 have died within 5 years (Haberman, 1976). These 81 patients had on average 7.5 positive axillary nodes detected, while the 225 patients who survived 5 years or longer had on average 2.8 nodes detected.\n",
        "Let us assume that within each group the number of positive axillary nodes follows a geometric distribution.\n",
        "Estimate probability of survival within 5 years for a patient with 2 positive axillary nodes detected.\n"
      ]
    },
    {
      "cell_type": "markdown",
      "metadata": {
        "id": "8sKeuqRHZkXr"
      },
      "source": [
        "---\n",
        "Let's define the two groups in the experiment - \n",
        "* Group D: 81 people, with a geometricly distributed number of positive axillary nodes, with a mean of 7.5.\n",
        "* Group S: 225 people, with a geometricly distributed number of positive axillary nodes, with a mean of 2.\n",
        "\n",
        "Given the geometric distribution, we can extract the parameters we can -  \n",
        "$P(D) = \\frac{1}{mean_{D}} = \\frac{1}{7.5} = 0.1333$\n",
        "$P(S) = \\frac{1}{mean_{S}} = \\frac{1}{2} = 0.5$\n",
        "\n",
        "Now we can calculate the probability of each member of the group to have 2 positive axillary nodes:  \n",
        "\n",
        "$P(X_{D}=2)= (1-p)^{2-1}\\times{p}=0.8666\\times0.1333=\\frac{26}{225}=0.1155$\n",
        "\n",
        "$P(X_{S}=2)= (1-p)^{2-1}\\times{p}=0.5\\times0.5=\\frac{1}{4}=0.25$\n",
        "\n",
        "Let's plot these probabilites.\n"
      ]
    },
    {
      "cell_type": "code",
      "metadata": {
        "colab": {
          "base_uri": "https://localhost:8080/",
          "height": 297
        },
        "id": "hD-M8fx4ZipH",
        "outputId": "8c51c72d-fea9-4044-c292-e0d2c23eafb3"
      },
      "source": [
        "plt.rc('font', family=\"Roboto\")\n",
        "plt.rc('xtick', labelsize=\"small\")\n",
        "plt.rc('ytick', labelsize=\"small\")\n",
        "plt.rc('axes',  labelsize=\"medium\", titlesize=\"medium\")\n",
        "\n",
        "ax.xaxis.set_major_locator(ticker.MultipleLocator(2.0))\n",
        "ax.xaxis.set_minor_locator(ticker.MultipleLocator(0.4))\n",
        "ax.yaxis.set_major_locator(ticker.MultipleLocator(2.0))\n",
        "ax.yaxis.set_minor_locator(ticker.MultipleLocator(0.4))\n",
        "ax.grid(True, \"minor\", color=\"0.85\", linewidth=0.50, zorder=-20)\n",
        "ax.grid(True, \"major\", color=\"0.65\", linewidth=0.75, zorder=-10)\n",
        "ax.tick_params(which=\"both\", labelbottom=False, bottom=False)\n",
        "\n",
        "ax.text(1.25, 8.50, \"$f(x) = 10^x$\", color=\"C0\")\n",
        "ax.text(5.75, 5.00, \"$f(x) = x$\", color=\"C1\")\n",
        "ax.text(5.50, 1.50, \"$f(x) = log_{10}(x)$\", color=\"C2\")\n",
        "ax.set_title('P(X=k)')\n",
        "\n",
        "fig, ax = plt.subplots()\n",
        "p_d = 1. / 7.5\n",
        "p_s = 1. / 2.\n",
        "\n",
        "def geo(p, k):\n",
        "    return (1-p)**(k-1)*p\n",
        "\n",
        "x = np.linspace(0, 10, num=50)\n",
        "f_xd = []\n",
        "f_xs = []\n",
        "\n",
        "for i in range(len(x)):\n",
        "    f_xd.append(geo(p_d, i))\n",
        "    f_xs.append(geo(p_s, i))\n",
        "\n",
        "fig.patch.set_facecolor('#383838')\n",
        "ax.plot(x, f_xd, label='P(Xd)', linewidth=2, color='#FFDE57')\n",
        "ax.plot(x, f_xs, label='P(Xs)', linewidth=2, color='#4584B6')\n",
        "ax.axvline(x=2, linewidth=0.5,  color='#646464')\n",
        "ax.xlabel = 'k value'\n",
        "ax.ylabel = 'P(X=k)'\n",
        "\n",
        "\n",
        "ax.set_xticks([0,2,5,10])\n",
        "ax.set_xticklabels([])\n",
        "ax.set_yticks([0, 0.25, 0.5, 0.75, 1])\n",
        "ax.set_yticklabels([])\n",
        "ax.tick_params(\"both\", grid_alpha=0.50, grid_zorder=-10, grid_linewidth=0.5)\n",
        "ax.grid()\n",
        "\n",
        "plt.tight_layout()\n",
        "plt.show()"
      ],
      "execution_count": 66,
      "outputs": [
        {
          "output_type": "display_data",
          "data": {
            "image/png": "[encoded data removed]",
            "text/plain": [
              "<Figure size 432x288 with 1 Axes>"
            ]
          },
          "metadata": {
            "tags": []
          }
        }
      ]
    },
    {
      "cell_type": "code",
      "metadata": {
        "id": "X0u4MOV1Hxzu"
      },
      "source": [
        "## Likelihood [40 pts]\n",
        "\n",
        "Let $X_{1}, X_{2}, X_{2}"
      ],
      "execution_count": null,
      "outputs": []
    },
    {
      "cell_type": "markdown",
      "metadata": {
        "id": "kTB5O9NENwXn"
      },
      "source": [
        ""
      ]
    }
  ]
}